{
 "cells": [
  {
   "cell_type": "markdown",
   "metadata": {},
   "source": [
    "## Start Clipper"
   ]
  },
  {
   "cell_type": "code",
   "execution_count": 64,
   "metadata": {},
   "outputs": [
    {
     "name": "stdout",
     "output_type": "stream",
     "text": [
      "Checking if Docker is running...\n"
     ]
    }
   ],
   "source": [
    "import sys\n",
    "import os\n",
    "sys.path.append(os.path.abspath('../../management/'))\n",
    "import clipper_manager as cm\n",
    "reload(cm)\n",
    "user = \"\"\n",
    "key = \"\"\n",
    "host = \"localhost\"\n",
    "clipper = cm.Clipper(host, user, key)"
   ]
  },
  {
   "cell_type": "code",
   "execution_count": 2,
   "metadata": {},
   "outputs": [
    {
     "name": "stdout",
     "output_type": "stream",
     "text": [
      "Clipper is running\n"
     ]
    }
   ],
   "source": [
    "clipper.start()"
   ]
  },
  {
   "cell_type": "code",
   "execution_count": 3,
   "metadata": {},
   "outputs": [
    {
     "name": "stdout",
     "output_type": "stream",
     "text": [
      "Error application example_app already exists\n"
     ]
    }
   ],
   "source": [
    "app_name = \"example_app\"\n",
    "model_name = \"example_model_name\"\n",
    "default_output = \"0\"\n",
    "input_type = \"doubles\"\n",
    "\n",
    "clipper.register_application(\n",
    "    app_name,\n",
    "    model_name,\n",
    "    input_type,\n",
    "    default_output,\n",
    "    slo_micros=20000)"
   ]
  },
  {
   "cell_type": "code",
   "execution_count": 4,
   "metadata": {},
   "outputs": [
    {
     "data": {
      "text/plain": [
       "[{u'candidate_model_names': [u'birds_vs_planes_classifier'],\n",
       "  u'default_output': u'0',\n",
       "  u'input_type': u'doubles',\n",
       "  u'latency_slo_micros': 20000,\n",
       "  u'name': u'cifar_demo'},\n",
       " {u'candidate_model_names': [u'example_model_name'],\n",
       "  u'default_output': u'0',\n",
       "  u'input_type': u'doubles',\n",
       "  u'latency_slo_micros': 20000,\n",
       "  u'name': u'example_app'}]"
      ]
     },
     "execution_count": 4,
     "metadata": {},
     "output_type": "execute_result"
    }
   ],
   "source": [
    "clipper.get_all_apps(verbose=True)"
   ]
  },
  {
   "cell_type": "markdown",
   "metadata": {},
   "source": [
    "## Define prediction function"
   ]
  },
  {
   "cell_type": "code",
   "execution_count": 5,
   "metadata": {
    "collapsed": true
   },
   "outputs": [],
   "source": [
    "def noop_predict(inputs):\n",
    "    outputs = []\n",
    "    for input_item in inputs:\n",
    "        outputs.append(str(sum(input_item)))\n",
    "    return outputs"
   ]
  },
  {
   "cell_type": "code",
   "execution_count": 6,
   "metadata": {},
   "outputs": [
    {
     "data": {
      "text/plain": [
       "['6', '58']"
      ]
     },
     "execution_count": 6,
     "metadata": {},
     "output_type": "execute_result"
    }
   ],
   "source": [
    "noop_predict([[3,3], [4,54]])"
   ]
  },
  {
   "cell_type": "code",
   "execution_count": 66,
   "metadata": {},
   "outputs": [
    {
     "name": "stdout",
     "output_type": "stream",
     "text": [
      "Fetching package metadata .........\n",
      "Solving package specifications: .\n",
      "Solving package specifications: ..........\n",
      "The following packages in your conda environment aren't available in the linux-64 conda channel the container will use:\n",
      "appnope 0.1.0 py27_0, libgfortran 3.0.0 0, libxslt 1.1.28 2, mistune 0.7.2 py27_1, python.app 1.2 py27_4, pyaudio 0.2.7 py27_0, appscript 1.0.1 py27_0, xlwings 0.7.2 py27_0\n",
      "We will skip their installation when deploying your function. If your function uses these packages, the container will experience a runtime error when queried.\n",
      "\n",
      "\n",
      "Supplied environment details\n",
      "Serialized and supplied predict function\n",
      "Published model to Clipper\n",
      "Found nishadsingh/predict_func_container:latest on host\n",
      "Copied model data to host\n"
     ]
    },
    {
     "data": {
      "text/plain": [
       "True"
      ]
     },
     "execution_count": 66,
     "metadata": {},
     "output_type": "execute_result"
    }
   ],
   "source": [
    "clipper.deploy_predict_function(\n",
    "    model_name,\n",
    "    18,\n",
    "    noop_predict,\n",
    "    [\"label1\", \"label2\"],\n",
    "    input_type,\n",
    ")"
   ]
  },
  {
   "cell_type": "code",
   "execution_count": 51,
   "metadata": {
    "collapsed": true
   },
   "outputs": [],
   "source": [
    "import json\n",
    "import requests\n",
    "def predict(x):\n",
    "    uid = 0\n",
    "    url = \"http://%s:1337/%s/predict\" % (host, app_name)\n",
    "    req_json = json.dumps({'uid': uid, 'input': list(x)})\n",
    "    headers = {'Content-type': 'application/json'}\n",
    "    r = requests.post(url, headers=headers, data=req_json)\n",
    "    return r.text"
   ]
  },
  {
   "cell_type": "code",
   "execution_count": 67,
   "metadata": {},
   "outputs": [
    {
     "data": {
      "text/plain": [
       "u'{\"query_id\":12,\"output\":0,\"default\":true}'"
      ]
     },
     "execution_count": 67,
     "metadata": {},
     "output_type": "execute_result"
    }
   ],
   "source": [
    "predict([2.0, 14.0])"
   ]
  },
  {
   "cell_type": "code",
   "execution_count": null,
   "metadata": {
    "collapsed": true
   },
   "outputs": [],
   "source": []
  }
 ],
 "metadata": {
  "kernelspec": {
   "display_name": "Python [conda env:myenvironment]",
   "language": "python",
   "name": "conda-env-myenvironment-py"
  },
  "language_info": {
   "codemirror_mode": {
    "name": "ipython",
    "version": 2
   },
   "file_extension": ".py",
   "mimetype": "text/x-python",
   "name": "python",
   "nbconvert_exporter": "python",
   "pygments_lexer": "ipython2",
   "version": "2.7.12"
  }
 },
 "nbformat": 4,
 "nbformat_minor": 2
}
