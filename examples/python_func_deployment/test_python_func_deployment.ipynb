{
 "cells": [
  {
   "cell_type": "markdown",
   "metadata": {
    "deletable": true,
    "editable": true
   },
   "source": [
    "## Start Clipper"
   ]
  },
  {
   "cell_type": "code",
   "execution_count": null,
   "metadata": {
    "collapsed": false,
    "deletable": true,
    "editable": true
   },
   "outputs": [],
   "source": [
    "import sys\n",
    "import os\n",
    "sys.path.append(os.path.abspath('../../clipper_admin/'))\n",
    "import clipper_manager as cm\n",
    "reload(cm)\n",
    "user = \"\"\n",
    "key = \"\"\n",
    "host = \"localhost\"\n",
    "clipper = cm.Clipper(host, user, key)"
   ]
  },
  {
   "cell_type": "code",
   "execution_count": null,
   "metadata": {
    "collapsed": false,
    "deletable": true,
    "editable": true
   },
   "outputs": [],
   "source": [
    "clipper.start()"
   ]
  },
  {
   "cell_type": "code",
   "execution_count": null,
   "metadata": {
    "collapsed": false,
    "deletable": true,
    "editable": true
   },
   "outputs": [],
   "source": [
    "app_name = \"example_app\"\n",
    "model_name = \"example_model_name\"\n",
    "default_output = \"0\"\n",
    "input_type = \"doubles\"\n",
    "\n",
    "clipper.register_application(\n",
    "    app_name,\n",
    "    model_name,\n",
    "    input_type,\n",
    "    default_output,\n",
    "    slo_micros=20000)"
   ]
  },
  {
   "cell_type": "markdown",
   "metadata": {
    "deletable": true,
    "editable": true
   },
   "source": [
    "## Test setup"
   ]
  },
  {
   "cell_type": "code",
   "execution_count": null,
   "metadata": {
    "collapsed": true,
    "deletable": true,
    "editable": true
   },
   "outputs": [],
   "source": [
    "def no_packages_needed_predict(inputs):\n",
    "    outputs = []\n",
    "    for input_item in inputs:\n",
    "        outputs.append(str(sum(input_item)))\n",
    "    return outputs"
   ]
  },
  {
   "cell_type": "code",
   "execution_count": null,
   "metadata": {
    "collapsed": true,
    "deletable": true,
    "editable": true
   },
   "outputs": [],
   "source": [
    "def runtime_error_predict(inputs):\n",
    "    1/0\n",
    "    print(\"Shouldn't ever get here\")"
   ]
  },
  {
   "cell_type": "code",
   "execution_count": null,
   "metadata": {
    "collapsed": true,
    "deletable": true,
    "editable": true
   },
   "outputs": [],
   "source": [
    "def nonexistent_package_predict(inputs):\n",
    "    import packagedoesntexist\n",
    "    print(\"Shouldn't ever get here\")"
   ]
  },
  {
   "cell_type": "code",
   "execution_count": null,
   "metadata": {
    "collapsed": true,
    "deletable": true,
    "editable": true
   },
   "outputs": [],
   "source": [
    "# Make sure you run `conda install fuel` from within your local conda environment\n",
    "def need_to_install_package_predict(inputs):\n",
    "    import fuel\n",
    "    print(\"Should get here after installation\")\n",
    "    outputs = []\n",
    "    for input_item in inputs:\n",
    "        outputs.append(str(sum(input_item)))\n",
    "    return outputs"
   ]
  },
  {
   "cell_type": "code",
   "execution_count": null,
   "metadata": {
    "collapsed": true,
    "deletable": true,
    "editable": true
   },
   "outputs": [],
   "source": [
    "def need_to_install_package_has_runtime_error_predict(inputs):\n",
    "    import fuel\n",
    "    print(\"Should get here after installation\")\n",
    "    1/0\n",
    "    print(\"Shouldn't ever get here\")"
   ]
  },
  {
   "cell_type": "code",
   "execution_count": null,
   "metadata": {
    "collapsed": true,
    "deletable": true,
    "editable": true
   },
   "outputs": [],
   "source": [
    "import json\n",
    "import requests\n",
    "def predict(x):\n",
    "    uid = 0\n",
    "    url = \"http://%s:1337/%s/predict\" % (host, app_name)\n",
    "    req_json = json.dumps({'uid': uid, 'input': list(x)})\n",
    "    headers = {'Content-type': 'application/json'}\n",
    "    r = requests.post(url, headers=headers, data=req_json)\n",
    "    return r.text"
   ]
  },
  {
   "cell_type": "code",
   "execution_count": null,
   "metadata": {
    "collapsed": true,
    "deletable": true,
    "editable": true
   },
   "outputs": [],
   "source": [
    "model_version = 50\n",
    "datapoint = [1.0, 2.0]\n",
    "labels = [\"label1\", \"label2\"]"
   ]
  },
  {
   "cell_type": "markdown",
   "metadata": {
    "deletable": true,
    "editable": true
   },
   "source": [
    "# Test cases"
   ]
  },
  {
   "cell_type": "markdown",
   "metadata": {
    "deletable": true,
    "editable": true
   },
   "source": [
    "## Outside of conda env: deploy function that needs no additional packages"
   ]
  },
  {
   "cell_type": "markdown",
   "metadata": {
    "deletable": true,
    "editable": true
   },
   "source": [
    "**Management library should print:**\n",
    "\n",
    "\"Anaconda environment was either not found or failed being exported\"\n",
    "\n",
    "\"Your local environment details will not be supplied to and loaded in the container in which your model is deployed.\"\n",
    "\n",
    "**After startup, logs should show:**\n",
    "\n",
    "\"No dependencies supplied. Attempting to run Python container.\"\n",
    "\n",
    "\n",
    "**Model-container should work and be queryable**"
   ]
  },
  {
   "cell_type": "code",
   "execution_count": null,
   "metadata": {
    "collapsed": false,
    "deletable": true,
    "editable": true
   },
   "outputs": [],
   "source": [
    "clipper.deploy_predict_function(\n",
    "    model_name,\n",
    "    model_version,\n",
    "    no_packages_needed_predict,\n",
    "    labels,\n",
    "    input_type,\n",
    ")\n",
    "model_version += 1"
   ]
  },
  {
   "cell_type": "code",
   "execution_count": null,
   "metadata": {
    "collapsed": false,
    "deletable": true,
    "editable": true
   },
   "outputs": [],
   "source": [
    "predict(datapoint)"
   ]
  },
  {
   "cell_type": "markdown",
   "metadata": {
    "deletable": true,
    "editable": true
   },
   "source": [
    "## Outside of conda env: deploy function that needs an additional package not pre-installed on the container"
   ]
  },
  {
   "cell_type": "markdown",
   "metadata": {
    "deletable": true,
    "editable": true
   },
   "source": [
    "**Management library should print:**\n",
    "\n",
    "\"Anaconda environment was either not found or failed being exported\"\n",
    "\n",
    "\"Your local environment details will not be supplied to and loaded in the container in which your model is deployed.\"\n",
    "\n",
    "**After startup, logs should show:**\n",
    "\n",
    "\"No dependencies supplied. Attempting to run Python container.\"\n",
    "\n",
    "**Upon query, logs should show:**\n",
    "\n",
    "\"Encountered an ImportError when running Python container.\"\n",
    "\n",
    "\"Please supply necessary dependencies through an Anaconda environment and try again.\""
   ]
  },
  {
   "cell_type": "code",
   "execution_count": null,
   "metadata": {
    "collapsed": false,
    "deletable": true,
    "editable": true
   },
   "outputs": [],
   "source": [
    "clipper.deploy_predict_function(\n",
    "    model_name,\n",
    "    model_version,\n",
    "    nonexistent_package_predict, # This should have the same behavior with `need_to_install_package_predict` or `need_to_install_package_has_runtime_error_predict`\n",
    "    labels,\n",
    "    input_type,\n",
    ")\n",
    "model_version += 1"
   ]
  },
  {
   "cell_type": "code",
   "execution_count": null,
   "metadata": {
    "collapsed": false,
    "deletable": true,
    "editable": true
   },
   "outputs": [],
   "source": [
    "predict(datapoint)"
   ]
  },
  {
   "cell_type": "markdown",
   "metadata": {
    "deletable": true,
    "editable": true
   },
   "source": [
    "## Outside of conda env: deploy a function that experiences a runtime error"
   ]
  },
  {
   "cell_type": "markdown",
   "metadata": {
    "deletable": true,
    "editable": true
   },
   "source": [
    "**Management library should print:**\n",
    "\n",
    "\"Anaconda environment was either not found or failed being exported\"\n",
    "\n",
    "\"Your local environment details will not be supplied to and loaded in the container in which your model is deployed.\"\n",
    "\n",
    "**After startup, logs should show:**\n",
    "\n",
    "\"No dependencies supplied. Attempting to run Python container.\"\n",
    "\n",
    "**Upon query, logs should show:**\n",
    "\n",
    "{Runtime error output, including \"ZeroDivisionError: integer division or modulo by zero\"}\n",
    "\n",
    "\"Encountered error not related to missing packages. Please refer to the above logs to diagnose.\""
   ]
  },
  {
   "cell_type": "code",
   "execution_count": null,
   "metadata": {
    "collapsed": false,
    "deletable": true,
    "editable": true
   },
   "outputs": [],
   "source": [
    "clipper.deploy_predict_function(\n",
    "    model_name,\n",
    "    model_version,\n",
    "    runtime_error_predict,\n",
    "    labels,\n",
    "    input_type,\n",
    ")\n",
    "model_version += 1"
   ]
  },
  {
   "cell_type": "code",
   "execution_count": null,
   "metadata": {
    "collapsed": false,
    "deletable": true,
    "editable": true
   },
   "outputs": [],
   "source": [
    "predict(datapoint)"
   ]
  },
  {
   "cell_type": "markdown",
   "metadata": {
    "deletable": true,
    "editable": true
   },
   "source": [
    "## Within conda env: deploy a function needs no additional dependencies. Optimistic startup should work"
   ]
  },
  {
   "cell_type": "markdown",
   "metadata": {
    "deletable": true,
    "editable": true
   },
   "source": [
    "**Management library should print:**\n",
    "\n",
    "\"Anaconda environment found. Verifying packages.\"\n",
    "\n",
    "\"Supplied environment details\"\n",
    "\n",
    "**After startup, logs should show:**\n",
    "\n",
    "\"Attempting to run Python container without installing without supplied dependencies.\"\n",
    "\n",
    "**Model-container should work and be queryable**"
   ]
  },
  {
   "cell_type": "code",
   "execution_count": null,
   "metadata": {
    "collapsed": true,
    "deletable": true,
    "editable": true
   },
   "outputs": [],
   "source": [
    "clipper.deploy_predict_function(\n",
    "    model_name,\n",
    "    model_version,\n",
    "    no_packages_needed_predict,\n",
    "    labels,\n",
    "    input_type,\n",
    ")\n",
    "model_version += 1"
   ]
  },
  {
   "cell_type": "code",
   "execution_count": null,
   "metadata": {
    "collapsed": true,
    "deletable": true,
    "editable": true
   },
   "outputs": [],
   "source": [
    "predict(datapoint)"
   ]
  },
  {
   "cell_type": "markdown",
   "metadata": {
    "collapsed": true,
    "deletable": true,
    "editable": true
   },
   "source": [
    "## Within conda env: Deploy a function that will experience a runtime error"
   ]
  },
  {
   "cell_type": "markdown",
   "metadata": {
    "deletable": true,
    "editable": true
   },
   "source": [
    "**Management library should print:**\n",
    "\n",
    "\"Anaconda environment found. Verifying packages.\"\n",
    "\n",
    "\"Supplied environment details\"\n",
    "\n",
    "**After startup, logs should show:**\n",
    "\n",
    "\"Attempting to run Python container without installing without supplied dependencies.\"\n",
    "\n",
    "**Upon query, logs should show:**\n",
    "\n",
    "\"Encountered error not related to missing packages. Please refer to the above logs to diagnose.\""
   ]
  },
  {
   "cell_type": "code",
   "execution_count": null,
   "metadata": {
    "collapsed": true,
    "deletable": true,
    "editable": true
   },
   "outputs": [],
   "source": [
    "clipper.deploy_predict_function(\n",
    "    model_name,\n",
    "    model_version,\n",
    "    runtime_error_predict,\n",
    "    labels,\n",
    "    input_type,\n",
    ")\n",
    "model_version += 1"
   ]
  },
  {
   "cell_type": "code",
   "execution_count": null,
   "metadata": {
    "collapsed": true,
    "deletable": true,
    "editable": true
   },
   "outputs": [],
   "source": [
    "predict(datapoint)"
   ]
  },
  {
   "cell_type": "markdown",
   "metadata": {
    "deletable": true,
    "editable": true
   },
   "source": [
    "## Within conda env: Deploy a function that uses a module not in the conda or pip distributions."
   ]
  },
  {
   "cell_type": "markdown",
   "metadata": {
    "deletable": true,
    "editable": true
   },
   "source": [
    "**Management library should print:**\n",
    "\n",
    "\"Anaconda environment found. Verifying packages.\"\n",
    "\n",
    "\"Supplied environment details\"\n",
    "\n",
    "**After startup, logs should show:**\n",
    "\n",
    "\"Attempting to run Python container without installing without supplied dependencies.\"\n",
    "\n",
    "**Upon query, logs should show:**\n",
    "\n",
    "\"Encountered an ImportError when running Python container without installing supplied dependencies.\"\n",
    "\n",
    "\"Will install supplied dependencies and try again.\"\n",
    "\n",
    "**Upon query after the supplied dependencies has been installed, logs should show:**\n",
    "\n",
    "\"Encountered an ImportError even after installing supplied dependencies.\""
   ]
  },
  {
   "cell_type": "code",
   "execution_count": null,
   "metadata": {
    "collapsed": true,
    "deletable": true,
    "editable": true
   },
   "outputs": [],
   "source": [
    "clipper.deploy_predict_function(\n",
    "    model_name,\n",
    "    model_version,\n",
    "    nonexistent_package_predict,\n",
    "    labels,\n",
    "    input_type,\n",
    ")\n",
    "model_version += 1"
   ]
  },
  {
   "cell_type": "code",
   "execution_count": null,
   "metadata": {
    "collapsed": true,
    "deletable": true,
    "editable": true
   },
   "outputs": [],
   "source": [
    "predict(datapoint)"
   ]
  },
  {
   "cell_type": "markdown",
   "metadata": {
    "collapsed": true,
    "deletable": true,
    "editable": true
   },
   "source": [
    "## Within conda env: Deploy a function that uses a module not pre-installed but within the conda distribution"
   ]
  },
  {
   "cell_type": "markdown",
   "metadata": {
    "deletable": true,
    "editable": true
   },
   "source": [
    "**Management library should print:**\n",
    "\n",
    "\"Anaconda environment found. Verifying packages.\"\n",
    "\n",
    "\"Supplied environment details\"\n",
    "\n",
    "**After startup, logs should show:**\n",
    "\n",
    "\"Attempting to run Python container without installing without supplied dependencies.\"\n",
    "\n",
    "**Upon query, logs should show:**\n",
    "\n",
    "\"Encountered an ImportError when running Python container without installing supplied dependencies.\"\n",
    "\n",
    "\"Will install supplied dependencies and try again.\"\n",
    "\n",
    "**Upon query after the supplied dependencies has been installed, model-container should be queryable and functional. Logs should show upon each query:**\n",
    "\n",
    "\"Should get here after installation\" (from a print statement within the function)"
   ]
  },
  {
   "cell_type": "code",
   "execution_count": null,
   "metadata": {
    "collapsed": true,
    "deletable": true,
    "editable": true
   },
   "outputs": [],
   "source": [
    "clipper.deploy_predict_function(\n",
    "    model_name,\n",
    "    model_version,\n",
    "    need_to_install_package_predict,\n",
    "    labels,\n",
    "    input_type,\n",
    ")\n",
    "model_version += 1"
   ]
  },
  {
   "cell_type": "code",
   "execution_count": null,
   "metadata": {
    "collapsed": true,
    "deletable": true,
    "editable": true
   },
   "outputs": [],
   "source": [
    "predict(datapoint)"
   ]
  },
  {
   "cell_type": "markdown",
   "metadata": {
    "deletable": true,
    "editable": true
   },
   "source": [
    "## Within conda env: Deploy a function that uses a module not pre-installed but within the conda distribution that also will experience a runtime error"
   ]
  },
  {
   "cell_type": "markdown",
   "metadata": {
    "deletable": true,
    "editable": true
   },
   "source": [
    "**Management library should print:**\n",
    "\n",
    "\"Anaconda environment found. Verifying packages.\"\n",
    "\n",
    "\"Supplied environment details\"\n",
    "\n",
    "**After startup, logs should show:**\n",
    "\n",
    "\"Attempting to run Python container without installing without supplied dependencies.\"\n",
    "\n",
    "**Upon query, logs should show:**\n",
    "\n",
    "\"Encountered an ImportError when running Python container without installing supplied dependencies.\"\n",
    "\n",
    "\"Will install supplied dependencies and try again.\"\n",
    "\n",
    "**Upon query after the supplied dependencies has been installed, logs should show:**\n",
    "\n",
    "\"Should get here after installation\" (from a print statement within the function)\n",
    "\n",
    "\"Encountered error not related to missing packages. Please refer to the above logs to diagnose.\""
   ]
  },
  {
   "cell_type": "code",
   "execution_count": null,
   "metadata": {
    "collapsed": true,
    "deletable": true,
    "editable": true
   },
   "outputs": [],
   "source": [
    "clipper.deploy_predict_function(\n",
    "    model_name,\n",
    "    model_version,\n",
    "    need_to_install_package_has_runtime_error_predict,\n",
    "    labels,\n",
    "    input_type,\n",
    ")\n",
    "model_version += 1"
   ]
  },
  {
   "cell_type": "code",
   "execution_count": null,
   "metadata": {
    "collapsed": true,
    "deletable": true,
    "editable": true
   },
   "outputs": [],
   "source": [
    "predict(datapoint)"
   ]
  }
 ],
 "metadata": {
  "kernelspec": {
   "display_name": "Python [conda root]",
   "language": "python",
   "name": "conda-root-py"
  },
  "language_info": {
   "codemirror_mode": {
    "name": "ipython",
    "version": 2
   },
   "file_extension": ".py",
   "mimetype": "text/x-python",
   "name": "python",
   "nbconvert_exporter": "python",
   "pygments_lexer": "ipython2",
   "version": "2.7.13"
  }
 },
 "nbformat": 4,
 "nbformat_minor": 2
}
