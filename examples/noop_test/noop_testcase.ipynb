{
 "cells": [
  {
   "cell_type": "markdown",
   "metadata": {},
   "source": [
    "I think I'm running into a problem where prediction requests aren't getting routed to modelcontainers. This code can hopefully replicate that."
   ]
  },
  {
   "cell_type": "markdown",
   "metadata": {
    "collapsed": true,
    "deletable": true,
    "editable": true
   },
   "source": [
    "### Instantiate Clipper"
   ]
  },
  {
   "cell_type": "code",
   "execution_count": null,
   "metadata": {
    "collapsed": false,
    "deletable": true,
    "editable": true
   },
   "outputs": [],
   "source": [
    "import sys\n",
    "import numpy as np\n",
    "import os\n",
    "sys.path.append(os.path.abspath('../../management/'))\n",
    "import clipper_manager\n",
    "reload(clipper_manager)\n",
    "# Change the username if necessary\n",
    "user = \"\"\n",
    "# Set the path to the SSH key\n",
    "key = \"\"\n",
    "# Set the SSH host\n",
    "host = \"localhost\"\n",
    "clipper = clipper_manager.Clipper(host, user, key)\n",
    "\n",
    "clipper.start()"
   ]
  },
  {
   "cell_type": "markdown",
   "metadata": {},
   "source": [
    "### Register app"
   ]
  },
  {
   "cell_type": "code",
   "execution_count": null,
   "metadata": {
    "collapsed": false,
    "deletable": true,
    "editable": true
   },
   "outputs": [],
   "source": [
    "app_name = \"noop_demo\"\n",
    "candidate_models = [\n",
    "    {\"model_name\": \"my_noop_model\", \"model_version\": 1},\n",
    "]\n",
    "\n",
    "clipper.register_application(\n",
    "    app_name,\n",
    "    candidate_models,\n",
    "    \"ints\",\n",
    "    \"EXP4\",\n",
    "    slo_micros=20000)"
   ]
  },
  {
   "cell_type": "markdown",
   "metadata": {},
   "source": [
    "### Deploy Noop model-container"
   ]
  },
  {
   "cell_type": "code",
   "execution_count": null,
   "metadata": {
    "collapsed": false,
    "deletable": true,
    "editable": true,
    "scrolled": true
   },
   "outputs": [],
   "source": [
    "path = \"some/path/to/an/empty/directory\"\n",
    "\n",
    "# This step may take some time in downloading the container image\n",
    "model_added = clipper.deploy_model(\n",
    "    \"my_noop_model\",\n",
    "    1,\n",
    "    path,\n",
    "    \"nishadsingh/noop_container:latest\",\n",
    "    [\"noop\"],\n",
    "    \"ints\",\n",
    "    num_containers=1\n",
    ")\n",
    "\n",
    "print(\"Model deploy successful? {success}\".format(success=model_added))"
   ]
  },
  {
   "cell_type": "code",
   "execution_count": null,
   "metadata": {
    "collapsed": false,
    "deletable": true,
    "editable": true
   },
   "outputs": [],
   "source": [
    "clipper.get_app_info(app_name)"
   ]
  },
  {
   "cell_type": "markdown",
   "metadata": {},
   "source": [
    "### See what it does when queried"
   ]
  },
  {
   "cell_type": "code",
   "execution_count": null,
   "metadata": {
    "collapsed": true,
    "deletable": true,
    "editable": true
   },
   "outputs": [],
   "source": [
    "import json\n",
    "import requests\n",
    "def get_prediction(host, app, x):\n",
    "    uid = 0\n",
    "    url = \"http://%s:1337/%s/predict\" % (host, app)\n",
    "    req_json = json.dumps({'uid': uid, 'input': list(x)})\n",
    "    headers = {'Content-type': 'application/json'}\n",
    "    r = requests.post(url, headers=headers, data=req_json)\n",
    "    return r.text"
   ]
  },
  {
   "cell_type": "code",
   "execution_count": null,
   "metadata": {
    "collapsed": false,
    "deletable": true,
    "editable": true
   },
   "outputs": [],
   "source": [
    "test_datapoint = np.asarray([1,2,3,4,5,6])\n",
    "clipper_prediction = get_prediction(host, app_name, test_datapoint)\n",
    "what_noop_would_have_returned = np.sum(test_datapoint)\n",
    "print(\"Clipper's prediction: {cpred}, what the noop `predict_ints` would have returned: {npred}\"\\\n",
    "      .format(cpred=clipper_prediction, npred=what_noop_would_have_returned))"
   ]
  },
  {
   "cell_type": "markdown",
   "metadata": {},
   "source": [
    "### Check logs"
   ]
  },
  {
   "cell_type": "markdown",
   "metadata": {},
   "source": [
    "Run `docker ps`, find the running instance of nishadsingh/noop_container, grab its container id and run `docker logs <container_id>`. If the Noop container's `predict_ints` (or any other `predict_<type>` for that matter) function was used, you'll see output."
   ]
  },
  {
   "cell_type": "code",
   "execution_count": null,
   "metadata": {
    "collapsed": true
   },
   "outputs": [],
   "source": []
  }
 ],
 "metadata": {
  "kernelspec": {
   "display_name": "Python 2",
   "language": "python",
   "name": "python2"
  },
  "language_info": {
   "codemirror_mode": {
    "name": "ipython",
    "version": 2
   },
   "file_extension": ".py",
   "mimetype": "text/x-python",
   "name": "python",
   "nbconvert_exporter": "python",
   "pygments_lexer": "ipython2",
   "version": "2.7.13"
  }
 },
 "nbformat": 4,
 "nbformat_minor": 0
}
