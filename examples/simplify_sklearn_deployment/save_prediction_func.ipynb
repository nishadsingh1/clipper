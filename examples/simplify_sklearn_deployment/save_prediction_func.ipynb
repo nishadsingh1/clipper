{
 "cells": [
  {
   "cell_type": "markdown",
   "metadata": {
    "deletable": true,
    "editable": true
   },
   "source": [
    "# Defining and saving prediction function"
   ]
  },
  {
   "cell_type": "markdown",
   "metadata": {
    "deletable": true,
    "editable": true
   },
   "source": [
    "This notebook should be run in a conda environment, `environment1`, with all the modules necessary to run this notebook and create the model within it installed.\n",
    "\n",
    "For more info, check out the design document: https://docs.google.com/document/d/1V6mKEkl29phAUkVic0J1ySd0Vtqkdikb9cDVTwsaL-I"
   ]
  },
  {
   "cell_type": "markdown",
   "metadata": {
    "deletable": true,
    "editable": true
   },
   "source": [
    "## Load in data"
   ]
  },
  {
   "cell_type": "code",
   "execution_count": null,
   "metadata": {
    "collapsed": true,
    "deletable": true,
    "editable": true
   },
   "outputs": [],
   "source": [
    "import pandas as pd\n",
    "import numpy as np\n",
    "\n",
    "# Taken from https://gist.github.com/dcrankshaw/f851ea2fee582f544288d36ae97ef86d\n",
    "def load_digits(digits_location, digits_filename):\n",
    "    digits_path = digits_location + \"/\" + digits_filename\n",
    "    print \"Source file:\", digits_path\n",
    "    df = pd.read_csv(digits_path, sep=\",\", header=None)\n",
    "    data = df.values\n",
    "    print \"Number of image files:\", len(data)\n",
    "    y = data[:,0]\n",
    "    X = data[:,1:]\n",
    "    return (X, y)\n",
    "\n",
    "def normalize_digits(X):\n",
    "    print(\"Normalizing data\")\n",
    "    mu = np.mean(X,0)\n",
    "    sigma = np.var(X,0)\n",
    "    Z = (X - mu) / np.array([np.sqrt(z) if z > 0 else 1. for z in sigma])\n",
    "    return Z"
   ]
  },
  {
   "cell_type": "markdown",
   "metadata": {},
   "source": [
    "Provide the location of the MNIST data. It can be downloaded here: https://www.dropbox.com/s/n3jqkdg5ukx7ku5/mnist.zip?dl=0"
   ]
  },
  {
   "cell_type": "code",
   "execution_count": null,
   "metadata": {
    "collapsed": false,
    "deletable": true,
    "editable": true
   },
   "outputs": [],
   "source": [
    "digits_location = \"\" # Set this to path of the folder enclosing the .data files\n",
    "train_data_fname = \"train-mnist-dense-with-labels.data\""
   ]
  },
  {
   "cell_type": "markdown",
   "metadata": {},
   "source": [
    "Load in the training data"
   ]
  },
  {
   "cell_type": "code",
   "execution_count": null,
   "metadata": {
    "collapsed": false
   },
   "outputs": [],
   "source": [
    "train_x, train_y = load_digits(digits_location, train_data_fname)"
   ]
  },
  {
   "cell_type": "markdown",
   "metadata": {
    "deletable": true,
    "editable": true
   },
   "source": [
    "## Select subset of data to train on"
   ]
  },
  {
   "cell_type": "code",
   "execution_count": null,
   "metadata": {
    "collapsed": false,
    "deletable": true,
    "editable": true
   },
   "outputs": [],
   "source": [
    "import random\n",
    "NUM_DATAPOINTS = 1000\n",
    "n, d = train_x.shape\n",
    "\n",
    "rand_range = list(range(n))\n",
    "random.shuffle(rand_range)\n",
    "\n",
    "indices = np.array(rand_range[0:NUM_DATAPOINTS])\n",
    "\n",
    "train_x_short = train_x[indices, :]\n",
    "train_y_short = train_y[indices]"
   ]
  },
  {
   "cell_type": "markdown",
   "metadata": {
    "deletable": true,
    "editable": true
   },
   "source": [
    "## Pre-process data and train model"
   ]
  },
  {
   "cell_type": "code",
   "execution_count": null,
   "metadata": {
    "collapsed": false,
    "deletable": true,
    "editable": true
   },
   "outputs": [],
   "source": [
    "from sklearn import linear_model as lm\n",
    "def train_sklearn_model(m, train_x, train_y):\n",
    "    m.fit(train_x, train_y)\n",
    "    return m\n",
    "normalized_training_x_short = normalize_digits(train_x_short)\n",
    "lr_model = train_sklearn_model(lm.LogisticRegression(), normalized_training_x_short, train_y_short)"
   ]
  },
  {
   "cell_type": "markdown",
   "metadata": {
    "deletable": true,
    "editable": true
   },
   "source": [
    "## Define prediction function"
   ]
  },
  {
   "cell_type": "code",
   "execution_count": null,
   "metadata": {
    "collapsed": true,
    "deletable": true,
    "editable": true
   },
   "outputs": [],
   "source": [
    "def predict(data):\n",
    "    normalized_data = normalize_digits(data)\n",
    "    return lr_model.predict(normalized_data)"
   ]
  },
  {
   "cell_type": "markdown",
   "metadata": {
    "deletable": true,
    "editable": true
   },
   "source": [
    "## Seralize prediction function and export it to a text file"
   ]
  },
  {
   "cell_type": "markdown",
   "metadata": {
    "deletable": true,
    "editable": true
   },
   "source": [
    "Serialize the predict function"
   ]
  },
  {
   "cell_type": "code",
   "execution_count": null,
   "metadata": {
    "collapsed": false,
    "deletable": true,
    "editable": true
   },
   "outputs": [],
   "source": [
    "from cStringIO import StringIO\n",
    "from cloudpickle import CloudPickler\n",
    "\n",
    "s = StringIO()\n",
    "c = CloudPickler(s, 2)\n",
    "c.dump(predict)\n",
    "serialized_prediction_function = s.getvalue()"
   ]
  },
  {
   "cell_type": "markdown",
   "metadata": {
    "deletable": true,
    "editable": true
   },
   "source": [
    "Write it to a file"
   ]
  },
  {
   "cell_type": "code",
   "execution_count": null,
   "metadata": {
    "collapsed": true,
    "deletable": true,
    "editable": true
   },
   "outputs": [],
   "source": [
    "serialized_function_file = open(\"serialized_function.txt\", \"w\")\n",
    "serialized_function_file.write(serialized_prediction_function)\n",
    "serialized_function_file.close()"
   ]
  },
  {
   "cell_type": "markdown",
   "metadata": {
    "deletable": true,
    "editable": true
   },
   "source": [
    "## Identify all installed packages and export them to a text file"
   ]
  },
  {
   "cell_type": "markdown",
   "metadata": {
    "deletable": true,
    "editable": true
   },
   "source": [
    "Identify all installed python packages"
   ]
  },
  {
   "cell_type": "code",
   "execution_count": null,
   "metadata": {
    "collapsed": false,
    "deletable": true,
    "editable": true
   },
   "outputs": [],
   "source": [
    "import pip\n",
    "installed_packages = pip.get_installed_distributions()\n",
    "installed_packages_list = [\"{name}=={version}\".format(name=m.key, version=m.version) for m in installed_packages]"
   ]
  },
  {
   "cell_type": "markdown",
   "metadata": {
    "deletable": true,
    "editable": true
   },
   "source": [
    "Write them to a file"
   ]
  },
  {
   "cell_type": "code",
   "execution_count": null,
   "metadata": {
    "collapsed": true,
    "deletable": true,
    "editable": true
   },
   "outputs": [],
   "source": [
    "installed_packages_str = '\\n'.join(installed_packages_list)\n",
    "dependencies_file = open(\"dependencies.txt\", \"w\")\n",
    "dependencies_file.write(installed_packages_str)\n",
    "dependencies_file.close()"
   ]
  }
 ],
 "metadata": {
  "kernelspec": {
   "display_name": "Python 2",
   "language": "python",
   "name": "python2"
  },
  "language_info": {
   "codemirror_mode": {
    "name": "ipython",
    "version": 2
   },
   "file_extension": ".py",
   "mimetype": "text/x-python",
   "name": "python",
   "nbconvert_exporter": "python",
   "pygments_lexer": "ipython2",
   "version": "2.7.13"
  }
 },
 "nbformat": 4,
 "nbformat_minor": 0
}
