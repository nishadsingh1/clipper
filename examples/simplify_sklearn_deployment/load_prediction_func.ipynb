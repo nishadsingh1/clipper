{
 "cells": [
  {
   "cell_type": "markdown",
   "metadata": {
    "collapsed": true,
    "deletable": true,
    "editable": true
   },
   "source": [
    "# Loading and using a prediction function"
   ]
  },
  {
   "cell_type": "markdown",
   "metadata": {
    "deletable": true,
    "editable": true
   },
   "source": [
    "This notebook should be used in a different conda environment from the first, `environment2`. This environment should not have sklearn modules installed before running the contents of this notebook."
   ]
  },
  {
   "cell_type": "code",
   "execution_count": null,
   "metadata": {
    "collapsed": true,
    "deletable": true,
    "editable": true
   },
   "outputs": [],
   "source": [
    "import cPickle as pickle\n",
    "import pip"
   ]
  },
  {
   "cell_type": "markdown",
   "metadata": {},
   "source": [
    "## Try loading prediction function without necessary packages"
   ]
  },
  {
   "cell_type": "markdown",
   "metadata": {},
   "source": [
    "Without installing the necessary packages, we won't be able to use the prediction function. Confirm that this is true by attempting to load in the prediction function now. If you *don't* run into any problems here, go back and ensure that you're in an environment that doesn't have scikit-learn (or some other required package) installed."
   ]
  },
  {
   "cell_type": "code",
   "execution_count": null,
   "metadata": {
    "collapsed": true
   },
   "outputs": [],
   "source": [
    "def load_prediction_func(location):\n",
    "    with open(location, 'r') as serialized_func_file:\n",
    "        serialized_func = serialized_func_file.read()\n",
    "\n",
    "    return pickle.loads(serialized_func)"
   ]
  },
  {
   "cell_type": "code",
   "execution_count": null,
   "metadata": {
    "collapsed": false
   },
   "outputs": [],
   "source": [
    "# This should fail\n",
    "load_prediction_func('serialized_function.txt')"
   ]
  },
  {
   "cell_type": "markdown",
   "metadata": {
    "deletable": true,
    "editable": true
   },
   "source": [
    "## Install required packages"
   ]
  },
  {
   "cell_type": "markdown",
   "metadata": {
    "deletable": true,
    "editable": true
   },
   "source": [
    "Identify the packages specified in the serialized dependencies file"
   ]
  },
  {
   "cell_type": "code",
   "execution_count": null,
   "metadata": {
    "collapsed": false,
    "deletable": true,
    "editable": true
   },
   "outputs": [],
   "source": [
    "with open('dependencies.txt', 'r') as dependencies_file:\n",
    "    dependencies_list = dependencies_file.readlines()\n",
    "\n",
    "required_packages = map(lambda s: s.strip(), dependencies_list)"
   ]
  },
  {
   "cell_type": "markdown",
   "metadata": {
    "deletable": true,
    "editable": true
   },
   "source": [
    "Identify packages already installed and confirm that scikit-learn is not among them."
   ]
  },
  {
   "cell_type": "code",
   "execution_count": null,
   "metadata": {
    "collapsed": false,
    "deletable": true,
    "editable": true
   },
   "outputs": [],
   "source": [
    "installed_packages = pip.get_installed_distributions()\n",
    "installed_packages_list = [\"{name}=={version}\".format(name=m.key, version=m.version) for m in installed_packages]\n",
    "print(\"Scikit-learn exists in installed_packages: {}\".format('scikit-learn==0.18' in installed_packages_list))"
   ]
  },
  {
   "cell_type": "markdown",
   "metadata": {
    "deletable": true,
    "editable": true
   },
   "source": [
    "Identify packages that need to be installed and confirm that scikit-learn is among them"
   ]
  },
  {
   "cell_type": "code",
   "execution_count": null,
   "metadata": {
    "collapsed": false,
    "deletable": true,
    "editable": true
   },
   "outputs": [],
   "source": [
    "needed_pakcages = set(required_packages) - set(installed_packages_list)\n",
    "print(\"Scikit-learn exists in needed_packages: {}\".format('scikit-learn==0.18' in needed_pakcages))"
   ]
  },
  {
   "cell_type": "markdown",
   "metadata": {
    "deletable": true,
    "editable": true
   },
   "source": [
    "Install all needed packages"
   ]
  },
  {
   "cell_type": "code",
   "execution_count": null,
   "metadata": {
    "collapsed": false,
    "deletable": true,
    "editable": true
   },
   "outputs": [],
   "source": [
    "for package in needed_pakcages:\n",
    "    pip.main(['install', package])"
   ]
  },
  {
   "cell_type": "markdown",
   "metadata": {
    "collapsed": false,
    "deletable": true,
    "editable": true
   },
   "source": [
    "## Load serialized predict function"
   ]
  },
  {
   "cell_type": "markdown",
   "metadata": {
    "deletable": true,
    "editable": true
   },
   "source": [
    "Now, try to load in the serialized function. It should work."
   ]
  },
  {
   "cell_type": "code",
   "execution_count": null,
   "metadata": {
    "collapsed": false,
    "deletable": true,
    "editable": true
   },
   "outputs": [],
   "source": [
    "prediction_func = load_prediction_func('serialized_function.txt')"
   ]
  },
  {
   "cell_type": "markdown",
   "metadata": {
    "deletable": true,
    "editable": true
   },
   "source": [
    "## Run the prediction function on some data"
   ]
  },
  {
   "cell_type": "markdown",
   "metadata": {
    "deletable": true,
    "editable": true
   },
   "source": [
    "Import test data"
   ]
  },
  {
   "cell_type": "code",
   "execution_count": null,
   "metadata": {
    "collapsed": false,
    "deletable": true,
    "editable": true
   },
   "outputs": [],
   "source": [
    "import pandas as pd\n",
    "\n",
    "# Taken from https://gist.github.com/dcrankshaw/f851ea2fee582f544288d36ae97ef86d\n",
    "def load_digits(digits_location, digits_filename):\n",
    "    digits_path = digits_location + \"/\" + digits_filename\n",
    "    print \"Source file:\", digits_path\n",
    "    df = pd.read_csv(digits_path, sep=\",\", header=None)\n",
    "    data = df.values\n",
    "    print \"Number of image files:\", len(data)\n",
    "    y = data[:,0]\n",
    "    X = data[:,1:]\n",
    "    return (X, y)\n",
    "\n",
    "digits_location = \"\" # Set this to path of the folder enclosing the .data files\n",
    "test_data_fname = \"test-mnist-dense-with-labels.data\"\n",
    "test_x, test_y = load_digits(digits_location, test_data_fname)"
   ]
  },
  {
   "cell_type": "code",
   "execution_count": null,
   "metadata": {
    "collapsed": false,
    "deletable": true,
    "editable": true
   },
   "outputs": [],
   "source": [
    "import numpy as np\n",
    "def get_prediction_func_score(prediction_func, test_x, test_y):\n",
    "    n, _ = test_x.shape\n",
    "    correct = 0\n",
    "    difference = np.subtract(prediction_func(test_x), test_y)\n",
    "    for i in difference:\n",
    "        if i == 0:\n",
    "            correct += 1\n",
    "    return float(correct)/n"
   ]
  },
  {
   "cell_type": "markdown",
   "metadata": {
    "deletable": true,
    "editable": true
   },
   "source": [
    "Get predictions and see the results. Make sure that the data is being normalized by the prediction_function"
   ]
  },
  {
   "cell_type": "code",
   "execution_count": null,
   "metadata": {
    "collapsed": false,
    "deletable": true,
    "editable": true
   },
   "outputs": [],
   "source": [
    "accuracy = get_prediction_func_score(prediction_func, test_x, test_y)\n",
    "print(\"Reconstructed prediction function has a {}% accuracy\".format(accuracy * 100))"
   ]
  }
 ],
 "metadata": {
  "kernelspec": {
   "display_name": "Python 2",
   "language": "python",
   "name": "python2"
  },
  "language_info": {
   "codemirror_mode": {
    "name": "ipython",
    "version": 2
   },
   "file_extension": ".py",
   "mimetype": "text/x-python",
   "name": "python",
   "nbconvert_exporter": "python",
   "pygments_lexer": "ipython2",
   "version": "2.7.13"
  }
 },
 "nbformat": 4,
 "nbformat_minor": 2
}
