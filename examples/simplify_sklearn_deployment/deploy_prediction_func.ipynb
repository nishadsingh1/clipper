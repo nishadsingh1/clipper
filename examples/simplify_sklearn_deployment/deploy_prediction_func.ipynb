{
 "cells": [
  {
   "cell_type": "markdown",
   "metadata": {
    "deletable": true,
    "editable": true
   },
   "source": [
    "## Load in data"
   ]
  },
  {
   "cell_type": "code",
   "execution_count": null,
   "metadata": {
    "collapsed": true,
    "deletable": true,
    "editable": true
   },
   "outputs": [],
   "source": [
    "import pandas as pd\n",
    "import numpy as np\n",
    "\n",
    "# Taken from https://gist.github.com/dcrankshaw/f851ea2fee582f544288d36ae97ef86d\n",
    "def load_digits(digits_location, digits_filename):\n",
    "    digits_path = digits_location + \"/\" + digits_filename\n",
    "    print \"Source file:\", digits_path\n",
    "    df = pd.read_csv(digits_path, sep=\",\", header=None)\n",
    "    data = df.values\n",
    "    print \"Number of image files:\", len(data)\n",
    "    y = data[:,0]\n",
    "    X = data[:,1:]\n",
    "    return (X, y)\n",
    "\n",
    "def normalize_digits(X):\n",
    "    print(\"Normalizing data\")\n",
    "    mu = np.mean(X,0)\n",
    "    sigma = np.var(X,0)\n",
    "    Z = (X - mu) / np.array([np.sqrt(z) if z > 0 else 1. for z in sigma])\n",
    "    return Z"
   ]
  },
  {
   "cell_type": "markdown",
   "metadata": {
    "deletable": true,
    "editable": true
   },
   "source": [
    "Provide the location of the MNIST data. It can be downloaded here: https://www.dropbox.com/s/n3jqkdg5ukx7ku5/mnist.zip?dl=0"
   ]
  },
  {
   "cell_type": "code",
   "execution_count": null,
   "metadata": {
    "collapsed": false,
    "deletable": true,
    "editable": true
   },
   "outputs": [],
   "source": [
    "digits_location = \"mnist_data\" # Set this to path of the folder enclosing the .data files\n",
    "train_data_fname = \"train-mnist-dense-with-labels.data\"\n",
    "test_data_fname = \"test-mnist-dense-with-labels.data\""
   ]
  },
  {
   "cell_type": "markdown",
   "metadata": {
    "deletable": true,
    "editable": true
   },
   "source": [
    "Load in the training data"
   ]
  },
  {
   "cell_type": "code",
   "execution_count": null,
   "metadata": {
    "collapsed": false,
    "deletable": true,
    "editable": true
   },
   "outputs": [],
   "source": [
    "train_x, train_y = load_digits(digits_location, train_data_fname)\n",
    "test_x, test_y = load_digits(digits_location, test_data_fname)"
   ]
  },
  {
   "cell_type": "markdown",
   "metadata": {
    "deletable": true,
    "editable": true
   },
   "source": [
    "## Select subset of data to train on"
   ]
  },
  {
   "cell_type": "code",
   "execution_count": null,
   "metadata": {
    "collapsed": false,
    "deletable": true,
    "editable": true
   },
   "outputs": [],
   "source": [
    "import random\n",
    "NUM_DATAPOINTS = 1000\n",
    "n, d = train_x.shape\n",
    "\n",
    "rand_range = list(range(n))\n",
    "random.shuffle(rand_range)\n",
    "\n",
    "indices = np.array(rand_range[0:NUM_DATAPOINTS])\n",
    "\n",
    "train_x_short = train_x[indices, :]\n",
    "train_y_short = train_y[indices]"
   ]
  },
  {
   "cell_type": "markdown",
   "metadata": {
    "deletable": true,
    "editable": true
   },
   "source": [
    "## Pre-process data and train model"
   ]
  },
  {
   "cell_type": "code",
   "execution_count": null,
   "metadata": {
    "collapsed": false,
    "deletable": true,
    "editable": true
   },
   "outputs": [],
   "source": [
    "from sklearn import linear_model as lm\n",
    "def train_sklearn_model(m, train_x, train_y):\n",
    "    m.fit(train_x, train_y)\n",
    "    return m\n",
    "normalized_training_x_short = normalize_digits(train_x_short)\n",
    "lr_model = train_sklearn_model(lm.LogisticRegression(), normalized_training_x_short, train_y_short)"
   ]
  },
  {
   "cell_type": "markdown",
   "metadata": {
    "deletable": true,
    "editable": true
   },
   "source": [
    "## Define prediction function"
   ]
  },
  {
   "cell_type": "code",
   "execution_count": null,
   "metadata": {
    "collapsed": true,
    "deletable": true,
    "editable": true
   },
   "outputs": [],
   "source": [
    "def predict(data):\n",
    "    normalized_data = normalize_digits(data)\n",
    "    preds = lr_model.predict(normalized_data)\n",
    "    return preds"
   ]
  },
  {
   "cell_type": "code",
   "execution_count": null,
   "metadata": {
    "collapsed": true,
    "deletable": true,
    "editable": true
   },
   "outputs": [],
   "source": [
    "def get_prediction_func_score(prediction_func, test_x, test_y):\n",
    "    n, _ = test_x.shape\n",
    "    correct = 0\n",
    "    preds = prediction_func(test_x)\n",
    "    difference = np.subtract(preds, test_y)\n",
    "    for i in difference:\n",
    "        if i == 0:\n",
    "            correct += 1\n",
    "    return float(correct)/n, preds"
   ]
  },
  {
   "cell_type": "code",
   "execution_count": null,
   "metadata": {
    "collapsed": false,
    "deletable": true,
    "editable": true
   },
   "outputs": [],
   "source": [
    "accuracy, preds = get_prediction_func_score(predict, test_x, test_y)\n",
    "print(\"Prediction function has a {}% accuracy\".format(accuracy * 100))"
   ]
  },
  {
   "cell_type": "markdown",
   "metadata": {
    "collapsed": true,
    "deletable": true,
    "editable": true
   },
   "source": [
    "## Deploy the function to clipper"
   ]
  },
  {
   "cell_type": "code",
   "execution_count": null,
   "metadata": {
    "collapsed": false,
    "deletable": true,
    "editable": true
   },
   "outputs": [],
   "source": [
    "import sys\n",
    "import os\n",
    "sys.path.append(os.path.abspath('../../management/'))\n",
    "import clipper_manager\n",
    "# Change the username if necessary\n",
    "user = \"\"\n",
    "# Set the path to the SSH key\n",
    "key = \"\"\n",
    "# Set the SSH host\n",
    "host = \"localhost\"\n",
    "clipper = clipper_manager.Clipper(host, user, key)\n",
    "\n",
    "clipper.start()"
   ]
  },
  {
   "cell_type": "code",
   "execution_count": null,
   "metadata": {
    "collapsed": false,
    "deletable": true,
    "editable": true
   },
   "outputs": [],
   "source": [
    "app_name = \"mnist_predict_func_demo\"\n",
    "candidate_models = [\n",
    "    {\"model_name\": \"predict_func_model\", \"model_version\": 1},\n",
    "]\n",
    "\n",
    "clipper.register_application(\n",
    "    app_name,\n",
    "    candidate_models,\n",
    "    \"ints\",\n",
    "    \"EXP4\",\n",
    "    slo_micros=20000)"
   ]
  },
  {
   "cell_type": "code",
   "execution_count": null,
   "metadata": {
    "collapsed": false,
    "deletable": true,
    "editable": true,
    "scrolled": true
   },
   "outputs": [],
   "source": [
    "model_added = clipper.deploy_predict_function(\n",
    "    \"predict_func_model\",\n",
    "    1,\n",
    "    predict,\n",
    "    [\"mnist\", \"predict_func\"],\n",
    "    [\"noop\"],\n",
    "    \"ints\",\n",
    "    num_containers=1\n",
    ")\n",
    "\n",
    "print(\"Model deploy successful? {success}\".format(success=model_added))"
   ]
  },
  {
   "cell_type": "code",
   "execution_count": null,
   "metadata": {
    "collapsed": false,
    "deletable": true,
    "editable": true
   },
   "outputs": [],
   "source": [
    "clipper.get_app_info(app_name)"
   ]
  },
  {
   "cell_type": "code",
   "execution_count": null,
   "metadata": {
    "collapsed": true,
    "deletable": true,
    "editable": true
   },
   "outputs": [],
   "source": [
    "import json\n",
    "import requests\n",
    "def get_prediction(host, app, x):\n",
    "    uid = 0\n",
    "    url = \"http://%s:1337/%s/predict\" % (host, app)\n",
    "    req_json = json.dumps({'uid': uid, 'input': list(x)})\n",
    "    headers = {'Content-type': 'application/json'}\n",
    "    r = requests.post(url, headers=headers, data=req_json)\n",
    "    return r.text"
   ]
  },
  {
   "cell_type": "code",
   "execution_count": null,
   "metadata": {
    "collapsed": false,
    "deletable": true,
    "editable": true
   },
   "outputs": [],
   "source": [
    "test_datapoint = test_x[5020]\n",
    "get_prediction(host, app_name, test_datapoint.astype(np.int64))"
   ]
  },
  {
   "cell_type": "code",
   "execution_count": null,
   "metadata": {
    "collapsed": false,
    "deletable": true,
    "editable": true
   },
   "outputs": [],
   "source": [
    "import seaborn as sns\n",
    "import cifar_utils\n",
    "# sns.set_style(\"whitegrid\")\n",
    "# sns.despine()\n",
    "import matplotlib as mpl\n",
    "%matplotlib notebook\n",
    "cifar_utils.run_serving_workload(host, app_name, test_x, test_y)"
   ]
  }
 ],
 "metadata": {
  "kernelspec": {
   "display_name": "Python 2",
   "language": "python",
   "name": "python2"
  },
  "language_info": {
   "codemirror_mode": {
    "name": "ipython",
    "version": 2
   },
   "file_extension": ".py",
   "mimetype": "text/x-python",
   "name": "python",
   "nbconvert_exporter": "python",
   "pygments_lexer": "ipython2",
   "version": "2.7.13"
  }
 },
 "nbformat": 4,
 "nbformat_minor": 0
}
